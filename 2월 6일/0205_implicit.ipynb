{
  "nbformat": 4,
  "nbformat_minor": 0,
  "metadata": {
    "colab": {
      "provenance": [],
      "mount_file_id": "1rDFMxwo-2DMiQZOjmZjNn4Tl0VTVomFl",
      "authorship_tag": "ABX9TyOSRBzBvMUbIPQrUHH2iCDR",
      "include_colab_link": true
    },
    "kernelspec": {
      "name": "python3",
      "display_name": "Python 3"
    },
    "language_info": {
      "name": "python"
    },
    "widgets": {
      "application/vnd.jupyter.widget-state+json": {
        "f6a2fd3e6ed14bb4bc3b1c209801fd39": {
          "model_module": "@jupyter-widgets/controls",
          "model_name": "HBoxModel",
          "model_module_version": "1.5.0",
          "state": {
            "_dom_classes": [],
            "_model_module": "@jupyter-widgets/controls",
            "_model_module_version": "1.5.0",
            "_model_name": "HBoxModel",
            "_view_count": null,
            "_view_module": "@jupyter-widgets/controls",
            "_view_module_version": "1.5.0",
            "_view_name": "HBoxView",
            "box_style": "",
            "children": [
              "IPY_MODEL_6cc5a33230f74606b467fcbf6ee0b55a",
              "IPY_MODEL_28e5ef8f3b4c4177ad2e96a0566b2e2f",
              "IPY_MODEL_9774eb815efc47bf9da4d3601cb53c2b"
            ],
            "layout": "IPY_MODEL_e5aa010dcf7c402d8fc75fd04b235ff9"
          }
        },
        "6cc5a33230f74606b467fcbf6ee0b55a": {
          "model_module": "@jupyter-widgets/controls",
          "model_name": "HTMLModel",
          "model_module_version": "1.5.0",
          "state": {
            "_dom_classes": [],
            "_model_module": "@jupyter-widgets/controls",
            "_model_module_version": "1.5.0",
            "_model_name": "HTMLModel",
            "_view_count": null,
            "_view_module": "@jupyter-widgets/controls",
            "_view_module_version": "1.5.0",
            "_view_name": "HTMLView",
            "description": "",
            "description_tooltip": null,
            "layout": "IPY_MODEL_dc42501de14442798cb451e82d40d737",
            "placeholder": "​",
            "style": "IPY_MODEL_aa91a9e4498c4e119f36f67fe04a073a",
            "value": "100%"
          }
        },
        "28e5ef8f3b4c4177ad2e96a0566b2e2f": {
          "model_module": "@jupyter-widgets/controls",
          "model_name": "FloatProgressModel",
          "model_module_version": "1.5.0",
          "state": {
            "_dom_classes": [],
            "_model_module": "@jupyter-widgets/controls",
            "_model_module_version": "1.5.0",
            "_model_name": "FloatProgressModel",
            "_view_count": null,
            "_view_module": "@jupyter-widgets/controls",
            "_view_module_version": "1.5.0",
            "_view_name": "ProgressView",
            "bar_style": "success",
            "description": "",
            "description_tooltip": null,
            "layout": "IPY_MODEL_47a932e14dc74ce89c1a8b89aed239a6",
            "max": 20,
            "min": 0,
            "orientation": "horizontal",
            "style": "IPY_MODEL_7287a5abf66e4ed3bda7ee9d603f9e26",
            "value": 20
          }
        },
        "9774eb815efc47bf9da4d3601cb53c2b": {
          "model_module": "@jupyter-widgets/controls",
          "model_name": "HTMLModel",
          "model_module_version": "1.5.0",
          "state": {
            "_dom_classes": [],
            "_model_module": "@jupyter-widgets/controls",
            "_model_module_version": "1.5.0",
            "_model_name": "HTMLModel",
            "_view_count": null,
            "_view_module": "@jupyter-widgets/controls",
            "_view_module_version": "1.5.0",
            "_view_name": "HTMLView",
            "description": "",
            "description_tooltip": null,
            "layout": "IPY_MODEL_eda7b04844cd42649732a4b4b8e02ff6",
            "placeholder": "​",
            "style": "IPY_MODEL_f9f4bf95559342e2ab473077f0a4eee4",
            "value": " 20/20 [04:06&lt;00:00, 12.94s/it, loss=0.0194]"
          }
        },
        "e5aa010dcf7c402d8fc75fd04b235ff9": {
          "model_module": "@jupyter-widgets/base",
          "model_name": "LayoutModel",
          "model_module_version": "1.2.0",
          "state": {
            "_model_module": "@jupyter-widgets/base",
            "_model_module_version": "1.2.0",
            "_model_name": "LayoutModel",
            "_view_count": null,
            "_view_module": "@jupyter-widgets/base",
            "_view_module_version": "1.2.0",
            "_view_name": "LayoutView",
            "align_content": null,
            "align_items": null,
            "align_self": null,
            "border": null,
            "bottom": null,
            "display": null,
            "flex": null,
            "flex_flow": null,
            "grid_area": null,
            "grid_auto_columns": null,
            "grid_auto_flow": null,
            "grid_auto_rows": null,
            "grid_column": null,
            "grid_gap": null,
            "grid_row": null,
            "grid_template_areas": null,
            "grid_template_columns": null,
            "grid_template_rows": null,
            "height": null,
            "justify_content": null,
            "justify_items": null,
            "left": null,
            "margin": null,
            "max_height": null,
            "max_width": null,
            "min_height": null,
            "min_width": null,
            "object_fit": null,
            "object_position": null,
            "order": null,
            "overflow": null,
            "overflow_x": null,
            "overflow_y": null,
            "padding": null,
            "right": null,
            "top": null,
            "visibility": null,
            "width": null
          }
        },
        "dc42501de14442798cb451e82d40d737": {
          "model_module": "@jupyter-widgets/base",
          "model_name": "LayoutModel",
          "model_module_version": "1.2.0",
          "state": {
            "_model_module": "@jupyter-widgets/base",
            "_model_module_version": "1.2.0",
            "_model_name": "LayoutModel",
            "_view_count": null,
            "_view_module": "@jupyter-widgets/base",
            "_view_module_version": "1.2.0",
            "_view_name": "LayoutView",
            "align_content": null,
            "align_items": null,
            "align_self": null,
            "border": null,
            "bottom": null,
            "display": null,
            "flex": null,
            "flex_flow": null,
            "grid_area": null,
            "grid_auto_columns": null,
            "grid_auto_flow": null,
            "grid_auto_rows": null,
            "grid_column": null,
            "grid_gap": null,
            "grid_row": null,
            "grid_template_areas": null,
            "grid_template_columns": null,
            "grid_template_rows": null,
            "height": null,
            "justify_content": null,
            "justify_items": null,
            "left": null,
            "margin": null,
            "max_height": null,
            "max_width": null,
            "min_height": null,
            "min_width": null,
            "object_fit": null,
            "object_position": null,
            "order": null,
            "overflow": null,
            "overflow_x": null,
            "overflow_y": null,
            "padding": null,
            "right": null,
            "top": null,
            "visibility": null,
            "width": null
          }
        },
        "aa91a9e4498c4e119f36f67fe04a073a": {
          "model_module": "@jupyter-widgets/controls",
          "model_name": "DescriptionStyleModel",
          "model_module_version": "1.5.0",
          "state": {
            "_model_module": "@jupyter-widgets/controls",
            "_model_module_version": "1.5.0",
            "_model_name": "DescriptionStyleModel",
            "_view_count": null,
            "_view_module": "@jupyter-widgets/base",
            "_view_module_version": "1.2.0",
            "_view_name": "StyleView",
            "description_width": ""
          }
        },
        "47a932e14dc74ce89c1a8b89aed239a6": {
          "model_module": "@jupyter-widgets/base",
          "model_name": "LayoutModel",
          "model_module_version": "1.2.0",
          "state": {
            "_model_module": "@jupyter-widgets/base",
            "_model_module_version": "1.2.0",
            "_model_name": "LayoutModel",
            "_view_count": null,
            "_view_module": "@jupyter-widgets/base",
            "_view_module_version": "1.2.0",
            "_view_name": "LayoutView",
            "align_content": null,
            "align_items": null,
            "align_self": null,
            "border": null,
            "bottom": null,
            "display": null,
            "flex": null,
            "flex_flow": null,
            "grid_area": null,
            "grid_auto_columns": null,
            "grid_auto_flow": null,
            "grid_auto_rows": null,
            "grid_column": null,
            "grid_gap": null,
            "grid_row": null,
            "grid_template_areas": null,
            "grid_template_columns": null,
            "grid_template_rows": null,
            "height": null,
            "justify_content": null,
            "justify_items": null,
            "left": null,
            "margin": null,
            "max_height": null,
            "max_width": null,
            "min_height": null,
            "min_width": null,
            "object_fit": null,
            "object_position": null,
            "order": null,
            "overflow": null,
            "overflow_x": null,
            "overflow_y": null,
            "padding": null,
            "right": null,
            "top": null,
            "visibility": null,
            "width": null
          }
        },
        "7287a5abf66e4ed3bda7ee9d603f9e26": {
          "model_module": "@jupyter-widgets/controls",
          "model_name": "ProgressStyleModel",
          "model_module_version": "1.5.0",
          "state": {
            "_model_module": "@jupyter-widgets/controls",
            "_model_module_version": "1.5.0",
            "_model_name": "ProgressStyleModel",
            "_view_count": null,
            "_view_module": "@jupyter-widgets/base",
            "_view_module_version": "1.2.0",
            "_view_name": "StyleView",
            "bar_color": null,
            "description_width": ""
          }
        },
        "eda7b04844cd42649732a4b4b8e02ff6": {
          "model_module": "@jupyter-widgets/base",
          "model_name": "LayoutModel",
          "model_module_version": "1.2.0",
          "state": {
            "_model_module": "@jupyter-widgets/base",
            "_model_module_version": "1.2.0",
            "_model_name": "LayoutModel",
            "_view_count": null,
            "_view_module": "@jupyter-widgets/base",
            "_view_module_version": "1.2.0",
            "_view_name": "LayoutView",
            "align_content": null,
            "align_items": null,
            "align_self": null,
            "border": null,
            "bottom": null,
            "display": null,
            "flex": null,
            "flex_flow": null,
            "grid_area": null,
            "grid_auto_columns": null,
            "grid_auto_flow": null,
            "grid_auto_rows": null,
            "grid_column": null,
            "grid_gap": null,
            "grid_row": null,
            "grid_template_areas": null,
            "grid_template_columns": null,
            "grid_template_rows": null,
            "height": null,
            "justify_content": null,
            "justify_items": null,
            "left": null,
            "margin": null,
            "max_height": null,
            "max_width": null,
            "min_height": null,
            "min_width": null,
            "object_fit": null,
            "object_position": null,
            "order": null,
            "overflow": null,
            "overflow_x": null,
            "overflow_y": null,
            "padding": null,
            "right": null,
            "top": null,
            "visibility": null,
            "width": null
          }
        },
        "f9f4bf95559342e2ab473077f0a4eee4": {
          "model_module": "@jupyter-widgets/controls",
          "model_name": "DescriptionStyleModel",
          "model_module_version": "1.5.0",
          "state": {
            "_model_module": "@jupyter-widgets/controls",
            "_model_module_version": "1.5.0",
            "_model_name": "DescriptionStyleModel",
            "_view_count": null,
            "_view_module": "@jupyter-widgets/base",
            "_view_module_version": "1.2.0",
            "_view_name": "StyleView",
            "description_width": ""
          }
        }
      }
    }
  },
  "cells": [
    {
      "cell_type": "markdown",
      "metadata": {
        "id": "view-in-github",
        "colab_type": "text"
      },
      "source": [
        "<a href=\"https://colab.research.google.com/github/hyuna0926/cp2_phase2/blob/main/2%EC%9B%94%206%EC%9D%BC/0205_implicit.ipynb\" target=\"_parent\"><img src=\"https://colab.research.google.com/assets/colab-badge.svg\" alt=\"Open In Colab\"/></a>"
      ]
    },
    {
      "cell_type": "markdown",
      "source": [
        "# 1. 필요 라이브러리 불러오기"
      ],
      "metadata": {
        "id": "s--elf-dt6sP"
      }
    },
    {
      "cell_type": "code",
      "execution_count": 1,
      "metadata": {
        "colab": {
          "base_uri": "https://localhost:8080/"
        },
        "id": "t4pcjbBkt1Zv",
        "outputId": "943f9131-50b0-4a61-c9e2-6e13634dce93"
      },
      "outputs": [
        {
          "output_type": "stream",
          "name": "stdout",
          "text": [
            "Looking in indexes: https://pypi.org/simple, https://us-python.pkg.dev/colab-wheels/public/simple/\n",
            "Collecting implicit\n",
            "  Downloading implicit-0.6.2-cp38-cp38-manylinux2014_x86_64.whl (18.6 MB)\n",
            "\u001b[2K     \u001b[90m━━━━━━━━━━━━━━━━━━━━━━━━━━━━━━━━━━━━━━━━\u001b[0m \u001b[32m18.6/18.6 MB\u001b[0m \u001b[31m46.0 MB/s\u001b[0m eta \u001b[36m0:00:00\u001b[0m\n",
            "\u001b[?25hRequirement already satisfied: numpy in /usr/local/lib/python3.8/dist-packages (from implicit) (1.21.6)\n",
            "Requirement already satisfied: tqdm>=4.27 in /usr/local/lib/python3.8/dist-packages (from implicit) (4.64.1)\n",
            "Requirement already satisfied: scipy>=0.16 in /usr/local/lib/python3.8/dist-packages (from implicit) (1.7.3)\n",
            "Installing collected packages: implicit\n",
            "Successfully installed implicit-0.6.2\n"
          ]
        }
      ],
      "source": [
        "! pip install implicit"
      ]
    },
    {
      "cell_type": "code",
      "source": [
        "import pandas as pd\n",
        "from google.colab import drive\n",
        "from sklearn.model_selection import train_test_split\n",
        "from scipy import sparse\n",
        "from scipy.sparse import csr_matrix\n",
        "from tqdm.notebook import tqdm\n",
        "import numpy as np\n",
        "\n",
        "from implicit.als import AlternatingLeastSquares as ALS\n",
        "import implicit\n",
        "import random\n",
        "import os"
      ],
      "metadata": {
        "colab": {
          "base_uri": "https://localhost:8080/"
        },
        "id": "9zm7HqM5uARB",
        "outputId": "a5fa0596-58ff-400a-ee9d-3b4a17953c6f"
      },
      "execution_count": 2,
      "outputs": [
        {
          "output_type": "stream",
          "name": "stderr",
          "text": [
            "/usr/local/lib/python3.8/dist-packages/implicit/gpu/__init__.py:13: UserWarning: CUDA extension is built, but disabling GPU support because of 'Cuda Error: no CUDA-capable device is detected (/project/./implicit/gpu/utils.h:71)'\n",
            "  warnings.warn(\n"
          ]
        }
      ]
    },
    {
      "cell_type": "code",
      "source": [
        "# implicit 라이브러리에서 권장하고 있는 부분입니다. \n",
        "os.environ['OPENBLAS_NUM_THREADS']='1'\n",
        "os.environ['KMP_DUPLICATE_LIB_OK']='True'\n",
        "os.environ['MKL_NUM_THREADS']='1'"
      ],
      "metadata": {
        "id": "NUeJ7aXHuSEh"
      },
      "execution_count": 4,
      "outputs": []
    },
    {
      "cell_type": "markdown",
      "source": [
        "# 2. 데이터 불러오기 및 분리하기\n"
      ],
      "metadata": {
        "id": "FgVQnPvXuFGv"
      }
    },
    {
      "cell_type": "code",
      "source": [
        "df = pd.read_parquet('/content/drive/MyDrive/CP2_Phase2/model_data.parquet')"
      ],
      "metadata": {
        "id": "PQYqwN9quHTM"
      },
      "execution_count": 21,
      "outputs": []
    },
    {
      "cell_type": "markdown",
      "source": [
        "- 구매했으니 1로 둠"
      ],
      "metadata": {
        "id": "HwqmLJZAu2Tf"
      }
    },
    {
      "cell_type": "code",
      "source": [
        "df['values']=1"
      ],
      "metadata": {
        "id": "jeO7lWTAuuUG"
      },
      "execution_count": 22,
      "outputs": []
    },
    {
      "cell_type": "markdown",
      "source": [
        "- groupby로 만들어서 train, test customer_id 비율을 맞춰줬음\n",
        "  - 비율이 안맞아서 검증셋에 없는 customer_id가 있지만 그래도 균등하게 나눠진듯"
      ],
      "metadata": {
        "id": "xPxJztY-couG"
      }
    },
    {
      "cell_type": "code",
      "source": [
        "test = df.groupby('c_idx').sample(frac=0.2,random_state=42)\n",
        "train = df.drop(test.index)"
      ],
      "metadata": {
        "id": "weicjMdyuaUw"
      },
      "execution_count": 23,
      "outputs": []
    },
    {
      "cell_type": "code",
      "source": [
        "print(test['c_idx'].nunique(),'\\n',train['c_idx'].nunique())"
      ],
      "metadata": {
        "colab": {
          "base_uri": "https://localhost:8080/"
        },
        "id": "iagFJv9QuawI",
        "outputId": "101ef4e2-ccf7-4347-b469-10a8f3c3e821"
      },
      "execution_count": 24,
      "outputs": [
        {
          "output_type": "stream",
          "name": "stdout",
          "text": [
            "37704 \n",
            " 50698\n"
          ]
        }
      ]
    },
    {
      "cell_type": "code",
      "source": [
        "print(train.shape, test.shape)"
      ],
      "metadata": {
        "colab": {
          "base_uri": "https://localhost:8080/"
        },
        "id": "Puot5BxBujZD",
        "outputId": "5a620e6c-507d-4e89-d86c-ccbeb6910b46"
      },
      "execution_count": 25,
      "outputs": [
        {
          "output_type": "stream",
          "name": "stdout",
          "text": [
            "(1005166, 6) (248627, 6)\n"
          ]
        }
      ]
    },
    {
      "cell_type": "code",
      "source": [
        "user_items = sparse.csr_matrix((train['values'],(train['c_idx'], train['p_idx'])))\n",
        "item_users = sparse.csr_matrix((train['values'],(train['p_idx'],train['c_idx'])))"
      ],
      "metadata": {
        "id": "UQWc2zuZumc3"
      },
      "execution_count": 26,
      "outputs": []
    },
    {
      "cell_type": "code",
      "source": [
        "#산거\n",
        "train_df = train.groupby('c_idx')['p_idx'].unique().to_frame().reset_index()\n",
        "train_df"
      ],
      "metadata": {
        "colab": {
          "base_uri": "https://localhost:8080/",
          "height": 423
        },
        "id": "KDTKWw6Ky_Ix",
        "outputId": "f33bb519-16e1-47f5-c5c3-6fec5994c76f"
      },
      "execution_count": 28,
      "outputs": [
        {
          "output_type": "execute_result",
          "data": {
            "text/plain": [
              "       c_idx                                              p_idx\n",
              "0          0  [6337, 8625, 3202, 3323, 21844, 5246, 21377, 1...\n",
              "1          1          [19759, 22592, 5571, 12489, 25493, 13859]\n",
              "2          2           [2336, 9053, 13775, 10912, 19757, 13006]\n",
              "3          3                                            [14068]\n",
              "4          4  [13807, 15504, 13706, 14526, 20247, 23329, 29779]\n",
              "...      ...                                                ...\n",
              "50693  50700  [11382, 23942, 21796, 29029, 25744, 23241, 297...\n",
              "50694  50701  [18765, 11976, 16954, 2578, 57, 20124, 3562, 6...\n",
              "50695  50702                                            [10623]\n",
              "50696  50703  [4622, 11566, 8822, 30886, 30757, 21690, 2971,...\n",
              "50697  50704                                            [14879]\n",
              "\n",
              "[50698 rows x 2 columns]"
            ],
            "text/html": [
              "\n",
              "  <div id=\"df-0f2f27a3-9470-4007-98cc-b337b51ac61e\">\n",
              "    <div class=\"colab-df-container\">\n",
              "      <div>\n",
              "<style scoped>\n",
              "    .dataframe tbody tr th:only-of-type {\n",
              "        vertical-align: middle;\n",
              "    }\n",
              "\n",
              "    .dataframe tbody tr th {\n",
              "        vertical-align: top;\n",
              "    }\n",
              "\n",
              "    .dataframe thead th {\n",
              "        text-align: right;\n",
              "    }\n",
              "</style>\n",
              "<table border=\"1\" class=\"dataframe\">\n",
              "  <thead>\n",
              "    <tr style=\"text-align: right;\">\n",
              "      <th></th>\n",
              "      <th>c_idx</th>\n",
              "      <th>p_idx</th>\n",
              "    </tr>\n",
              "  </thead>\n",
              "  <tbody>\n",
              "    <tr>\n",
              "      <th>0</th>\n",
              "      <td>0</td>\n",
              "      <td>[6337, 8625, 3202, 3323, 21844, 5246, 21377, 1...</td>\n",
              "    </tr>\n",
              "    <tr>\n",
              "      <th>1</th>\n",
              "      <td>1</td>\n",
              "      <td>[19759, 22592, 5571, 12489, 25493, 13859]</td>\n",
              "    </tr>\n",
              "    <tr>\n",
              "      <th>2</th>\n",
              "      <td>2</td>\n",
              "      <td>[2336, 9053, 13775, 10912, 19757, 13006]</td>\n",
              "    </tr>\n",
              "    <tr>\n",
              "      <th>3</th>\n",
              "      <td>3</td>\n",
              "      <td>[14068]</td>\n",
              "    </tr>\n",
              "    <tr>\n",
              "      <th>4</th>\n",
              "      <td>4</td>\n",
              "      <td>[13807, 15504, 13706, 14526, 20247, 23329, 29779]</td>\n",
              "    </tr>\n",
              "    <tr>\n",
              "      <th>...</th>\n",
              "      <td>...</td>\n",
              "      <td>...</td>\n",
              "    </tr>\n",
              "    <tr>\n",
              "      <th>50693</th>\n",
              "      <td>50700</td>\n",
              "      <td>[11382, 23942, 21796, 29029, 25744, 23241, 297...</td>\n",
              "    </tr>\n",
              "    <tr>\n",
              "      <th>50694</th>\n",
              "      <td>50701</td>\n",
              "      <td>[18765, 11976, 16954, 2578, 57, 20124, 3562, 6...</td>\n",
              "    </tr>\n",
              "    <tr>\n",
              "      <th>50695</th>\n",
              "      <td>50702</td>\n",
              "      <td>[10623]</td>\n",
              "    </tr>\n",
              "    <tr>\n",
              "      <th>50696</th>\n",
              "      <td>50703</td>\n",
              "      <td>[4622, 11566, 8822, 30886, 30757, 21690, 2971,...</td>\n",
              "    </tr>\n",
              "    <tr>\n",
              "      <th>50697</th>\n",
              "      <td>50704</td>\n",
              "      <td>[14879]</td>\n",
              "    </tr>\n",
              "  </tbody>\n",
              "</table>\n",
              "<p>50698 rows × 2 columns</p>\n",
              "</div>\n",
              "      <button class=\"colab-df-convert\" onclick=\"convertToInteractive('df-0f2f27a3-9470-4007-98cc-b337b51ac61e')\"\n",
              "              title=\"Convert this dataframe to an interactive table.\"\n",
              "              style=\"display:none;\">\n",
              "        \n",
              "  <svg xmlns=\"http://www.w3.org/2000/svg\" height=\"24px\"viewBox=\"0 0 24 24\"\n",
              "       width=\"24px\">\n",
              "    <path d=\"M0 0h24v24H0V0z\" fill=\"none\"/>\n",
              "    <path d=\"M18.56 5.44l.94 2.06.94-2.06 2.06-.94-2.06-.94-.94-2.06-.94 2.06-2.06.94zm-11 1L8.5 8.5l.94-2.06 2.06-.94-2.06-.94L8.5 2.5l-.94 2.06-2.06.94zm10 10l.94 2.06.94-2.06 2.06-.94-2.06-.94-.94-2.06-.94 2.06-2.06.94z\"/><path d=\"M17.41 7.96l-1.37-1.37c-.4-.4-.92-.59-1.43-.59-.52 0-1.04.2-1.43.59L10.3 9.45l-7.72 7.72c-.78.78-.78 2.05 0 2.83L4 21.41c.39.39.9.59 1.41.59.51 0 1.02-.2 1.41-.59l7.78-7.78 2.81-2.81c.8-.78.8-2.07 0-2.86zM5.41 20L4 18.59l7.72-7.72 1.47 1.35L5.41 20z\"/>\n",
              "  </svg>\n",
              "      </button>\n",
              "      \n",
              "  <style>\n",
              "    .colab-df-container {\n",
              "      display:flex;\n",
              "      flex-wrap:wrap;\n",
              "      gap: 12px;\n",
              "    }\n",
              "\n",
              "    .colab-df-convert {\n",
              "      background-color: #E8F0FE;\n",
              "      border: none;\n",
              "      border-radius: 50%;\n",
              "      cursor: pointer;\n",
              "      display: none;\n",
              "      fill: #1967D2;\n",
              "      height: 32px;\n",
              "      padding: 0 0 0 0;\n",
              "      width: 32px;\n",
              "    }\n",
              "\n",
              "    .colab-df-convert:hover {\n",
              "      background-color: #E2EBFA;\n",
              "      box-shadow: 0px 1px 2px rgba(60, 64, 67, 0.3), 0px 1px 3px 1px rgba(60, 64, 67, 0.15);\n",
              "      fill: #174EA6;\n",
              "    }\n",
              "\n",
              "    [theme=dark] .colab-df-convert {\n",
              "      background-color: #3B4455;\n",
              "      fill: #D2E3FC;\n",
              "    }\n",
              "\n",
              "    [theme=dark] .colab-df-convert:hover {\n",
              "      background-color: #434B5C;\n",
              "      box-shadow: 0px 1px 3px 1px rgba(0, 0, 0, 0.15);\n",
              "      filter: drop-shadow(0px 1px 2px rgba(0, 0, 0, 0.3));\n",
              "      fill: #FFFFFF;\n",
              "    }\n",
              "  </style>\n",
              "\n",
              "      <script>\n",
              "        const buttonEl =\n",
              "          document.querySelector('#df-0f2f27a3-9470-4007-98cc-b337b51ac61e button.colab-df-convert');\n",
              "        buttonEl.style.display =\n",
              "          google.colab.kernel.accessAllowed ? 'block' : 'none';\n",
              "\n",
              "        async function convertToInteractive(key) {\n",
              "          const element = document.querySelector('#df-0f2f27a3-9470-4007-98cc-b337b51ac61e');\n",
              "          const dataTable =\n",
              "            await google.colab.kernel.invokeFunction('convertToInteractive',\n",
              "                                                     [key], {});\n",
              "          if (!dataTable) return;\n",
              "\n",
              "          const docLinkHtml = 'Like what you see? Visit the ' +\n",
              "            '<a target=\"_blank\" href=https://colab.research.google.com/notebooks/data_table.ipynb>data table notebook</a>'\n",
              "            + ' to learn more about interactive tables.';\n",
              "          element.innerHTML = '';\n",
              "          dataTable['output_type'] = 'display_data';\n",
              "          await google.colab.output.renderOutput(dataTable, element);\n",
              "          const docLink = document.createElement('div');\n",
              "          docLink.innerHTML = docLinkHtml;\n",
              "          element.appendChild(docLink);\n",
              "        }\n",
              "      </script>\n",
              "    </div>\n",
              "  </div>\n",
              "  "
            ]
          },
          "metadata": {},
          "execution_count": 28
        }
      ]
    },
    {
      "cell_type": "code",
      "source": [
        "# 검증셋 만들기\n",
        "test_df = test.groupby('c_idx')['p_idx'].unique().to_frame().reset_index()\n",
        "test_df"
      ],
      "metadata": {
        "colab": {
          "base_uri": "https://localhost:8080/",
          "height": 423
        },
        "id": "mSfX9RB4ursJ",
        "outputId": "0d7e4fc0-a4b7-4b74-80a7-e42bb73c05dd"
      },
      "execution_count": 27,
      "outputs": [
        {
          "output_type": "execute_result",
          "data": {
            "text/plain": [
              "       c_idx                                              p_idx\n",
              "0          0  [11860, 27541, 14880, 9968, 4662, 12501, 11680...\n",
              "1          1                                       [6328, 6461]\n",
              "2          2                                      [16457, 9568]\n",
              "3          4                                     [27200, 28617]\n",
              "4          6  [18336, 2008, 21018, 15434, 16156, 31063, 247,...\n",
              "...      ...                                                ...\n",
              "37699  50698                                     [22224, 28354]\n",
              "37700  50699                                            [23766]\n",
              "37701  50700                               [7153, 26461, 27675]\n",
              "37702  50701  [2180, 11685, 20149, 14136, 571, 12309, 2072, ...\n",
              "37703  50703                  [5307, 28853, 19205, 1102, 30967]\n",
              "\n",
              "[37704 rows x 2 columns]"
            ],
            "text/html": [
              "\n",
              "  <div id=\"df-9db97c8d-6f33-482d-8de4-bf26b57365dd\">\n",
              "    <div class=\"colab-df-container\">\n",
              "      <div>\n",
              "<style scoped>\n",
              "    .dataframe tbody tr th:only-of-type {\n",
              "        vertical-align: middle;\n",
              "    }\n",
              "\n",
              "    .dataframe tbody tr th {\n",
              "        vertical-align: top;\n",
              "    }\n",
              "\n",
              "    .dataframe thead th {\n",
              "        text-align: right;\n",
              "    }\n",
              "</style>\n",
              "<table border=\"1\" class=\"dataframe\">\n",
              "  <thead>\n",
              "    <tr style=\"text-align: right;\">\n",
              "      <th></th>\n",
              "      <th>c_idx</th>\n",
              "      <th>p_idx</th>\n",
              "    </tr>\n",
              "  </thead>\n",
              "  <tbody>\n",
              "    <tr>\n",
              "      <th>0</th>\n",
              "      <td>0</td>\n",
              "      <td>[11860, 27541, 14880, 9968, 4662, 12501, 11680...</td>\n",
              "    </tr>\n",
              "    <tr>\n",
              "      <th>1</th>\n",
              "      <td>1</td>\n",
              "      <td>[6328, 6461]</td>\n",
              "    </tr>\n",
              "    <tr>\n",
              "      <th>2</th>\n",
              "      <td>2</td>\n",
              "      <td>[16457, 9568]</td>\n",
              "    </tr>\n",
              "    <tr>\n",
              "      <th>3</th>\n",
              "      <td>4</td>\n",
              "      <td>[27200, 28617]</td>\n",
              "    </tr>\n",
              "    <tr>\n",
              "      <th>4</th>\n",
              "      <td>6</td>\n",
              "      <td>[18336, 2008, 21018, 15434, 16156, 31063, 247,...</td>\n",
              "    </tr>\n",
              "    <tr>\n",
              "      <th>...</th>\n",
              "      <td>...</td>\n",
              "      <td>...</td>\n",
              "    </tr>\n",
              "    <tr>\n",
              "      <th>37699</th>\n",
              "      <td>50698</td>\n",
              "      <td>[22224, 28354]</td>\n",
              "    </tr>\n",
              "    <tr>\n",
              "      <th>37700</th>\n",
              "      <td>50699</td>\n",
              "      <td>[23766]</td>\n",
              "    </tr>\n",
              "    <tr>\n",
              "      <th>37701</th>\n",
              "      <td>50700</td>\n",
              "      <td>[7153, 26461, 27675]</td>\n",
              "    </tr>\n",
              "    <tr>\n",
              "      <th>37702</th>\n",
              "      <td>50701</td>\n",
              "      <td>[2180, 11685, 20149, 14136, 571, 12309, 2072, ...</td>\n",
              "    </tr>\n",
              "    <tr>\n",
              "      <th>37703</th>\n",
              "      <td>50703</td>\n",
              "      <td>[5307, 28853, 19205, 1102, 30967]</td>\n",
              "    </tr>\n",
              "  </tbody>\n",
              "</table>\n",
              "<p>37704 rows × 2 columns</p>\n",
              "</div>\n",
              "      <button class=\"colab-df-convert\" onclick=\"convertToInteractive('df-9db97c8d-6f33-482d-8de4-bf26b57365dd')\"\n",
              "              title=\"Convert this dataframe to an interactive table.\"\n",
              "              style=\"display:none;\">\n",
              "        \n",
              "  <svg xmlns=\"http://www.w3.org/2000/svg\" height=\"24px\"viewBox=\"0 0 24 24\"\n",
              "       width=\"24px\">\n",
              "    <path d=\"M0 0h24v24H0V0z\" fill=\"none\"/>\n",
              "    <path d=\"M18.56 5.44l.94 2.06.94-2.06 2.06-.94-2.06-.94-.94-2.06-.94 2.06-2.06.94zm-11 1L8.5 8.5l.94-2.06 2.06-.94-2.06-.94L8.5 2.5l-.94 2.06-2.06.94zm10 10l.94 2.06.94-2.06 2.06-.94-2.06-.94-.94-2.06-.94 2.06-2.06.94z\"/><path d=\"M17.41 7.96l-1.37-1.37c-.4-.4-.92-.59-1.43-.59-.52 0-1.04.2-1.43.59L10.3 9.45l-7.72 7.72c-.78.78-.78 2.05 0 2.83L4 21.41c.39.39.9.59 1.41.59.51 0 1.02-.2 1.41-.59l7.78-7.78 2.81-2.81c.8-.78.8-2.07 0-2.86zM5.41 20L4 18.59l7.72-7.72 1.47 1.35L5.41 20z\"/>\n",
              "  </svg>\n",
              "      </button>\n",
              "      \n",
              "  <style>\n",
              "    .colab-df-container {\n",
              "      display:flex;\n",
              "      flex-wrap:wrap;\n",
              "      gap: 12px;\n",
              "    }\n",
              "\n",
              "    .colab-df-convert {\n",
              "      background-color: #E8F0FE;\n",
              "      border: none;\n",
              "      border-radius: 50%;\n",
              "      cursor: pointer;\n",
              "      display: none;\n",
              "      fill: #1967D2;\n",
              "      height: 32px;\n",
              "      padding: 0 0 0 0;\n",
              "      width: 32px;\n",
              "    }\n",
              "\n",
              "    .colab-df-convert:hover {\n",
              "      background-color: #E2EBFA;\n",
              "      box-shadow: 0px 1px 2px rgba(60, 64, 67, 0.3), 0px 1px 3px 1px rgba(60, 64, 67, 0.15);\n",
              "      fill: #174EA6;\n",
              "    }\n",
              "\n",
              "    [theme=dark] .colab-df-convert {\n",
              "      background-color: #3B4455;\n",
              "      fill: #D2E3FC;\n",
              "    }\n",
              "\n",
              "    [theme=dark] .colab-df-convert:hover {\n",
              "      background-color: #434B5C;\n",
              "      box-shadow: 0px 1px 3px 1px rgba(0, 0, 0, 0.15);\n",
              "      filter: drop-shadow(0px 1px 2px rgba(0, 0, 0, 0.3));\n",
              "      fill: #FFFFFF;\n",
              "    }\n",
              "  </style>\n",
              "\n",
              "      <script>\n",
              "        const buttonEl =\n",
              "          document.querySelector('#df-9db97c8d-6f33-482d-8de4-bf26b57365dd button.colab-df-convert');\n",
              "        buttonEl.style.display =\n",
              "          google.colab.kernel.accessAllowed ? 'block' : 'none';\n",
              "\n",
              "        async function convertToInteractive(key) {\n",
              "          const element = document.querySelector('#df-9db97c8d-6f33-482d-8de4-bf26b57365dd');\n",
              "          const dataTable =\n",
              "            await google.colab.kernel.invokeFunction('convertToInteractive',\n",
              "                                                     [key], {});\n",
              "          if (!dataTable) return;\n",
              "\n",
              "          const docLinkHtml = 'Like what you see? Visit the ' +\n",
              "            '<a target=\"_blank\" href=https://colab.research.google.com/notebooks/data_table.ipynb>data table notebook</a>'\n",
              "            + ' to learn more about interactive tables.';\n",
              "          element.innerHTML = '';\n",
              "          dataTable['output_type'] = 'display_data';\n",
              "          await google.colab.output.renderOutput(dataTable, element);\n",
              "          const docLink = document.createElement('div');\n",
              "          docLink.innerHTML = docLinkHtml;\n",
              "          element.appendChild(docLink);\n",
              "        }\n",
              "      </script>\n",
              "    </div>\n",
              "  </div>\n",
              "  "
            ]
          },
          "metadata": {},
          "execution_count": 27
        }
      ]
    },
    {
      "cell_type": "markdown",
      "source": [
        "- 0인 값이 몇 %?"
      ],
      "metadata": {
        "id": "5WcYMi3JzDw3"
      }
    },
    {
      "cell_type": "code",
      "source": [
        "matrix_size = user_items.shape[0]* user_items.shape[1]\n",
        "num_purchases = len(user_items.nonzero()[0])\n",
        "sparsity = 100 * (1 - (num_purchases / matrix_size))\n",
        "sparsity"
      ],
      "metadata": {
        "colab": {
          "base_uri": "https://localhost:8080/"
        },
        "id": "Kbgxx9LBvEXY",
        "outputId": "b37105da-6b13-458a-c5b0-d264aa0e1301"
      },
      "execution_count": 29,
      "outputs": [
        {
          "output_type": "execute_result",
          "data": {
            "text/plain": [
              "99.93649644127566"
            ]
          },
          "metadata": {},
          "execution_count": 29
        }
      ]
    },
    {
      "cell_type": "markdown",
      "source": [
        "# 3. implicit 라이브러리 사용"
      ],
      "metadata": {
        "id": "lHacckOfzIv0"
      }
    },
    {
      "cell_type": "markdown",
      "source": [
        "- **recommend(user_id, user_items[user_id], filter_already_liked_items=True/False, N=k)**\n",
        "  - filter_already_liked_items=True 면 훈련데이터에 없는 상품 추천\n",
        "  - filter_alreadt_liked_items=False 면 훈련데이터에 있는 거 포함해서 추천"
      ],
      "metadata": {
        "id": "1cpLnH2Zzh-G"
      }
    },
    {
      "cell_type": "markdown",
      "source": [
        "- **explain(user_id, user_items, item_id)**<br>\n",
        "사용자가 항목을 좋아하는 이유에 대한 설명 제공<br>\n",
        "  - total_score: user/item에 대한 예측 점수\n",
        "  - total_contributions : user/item에 대한 상위 N(item_id, score) 기여 목록\n",
        "  - user_weights : user의 분해된 표현"
      ],
      "metadata": {
        "id": "4jB8vKj9Nl1e"
      }
    },
    {
      "cell_type": "markdown",
      "source": [
        "- **similar_items(item_id)**\n",
        "  - 유사한 상품 \n",
        "- **similar_users(user_id)**\n",
        "  - 유사한 유저 "
      ],
      "metadata": {
        "id": "vjS-1qBSz_Ls"
      }
    },
    {
      "cell_type": "code",
      "source": [
        "ALS = implicit.als.AlternatingLeastSquares(\n",
        "    factors=200, regularization=40, alpha=40,\n",
        "    iterations=20, random_state=42, calculate_training_loss=True\n",
        ")"
      ],
      "metadata": {
        "id": "KRVUstohzIRV"
      },
      "execution_count": 30,
      "outputs": []
    },
    {
      "cell_type": "code",
      "source": [
        "ALS.fit(user_items)"
      ],
      "metadata": {
        "colab": {
          "base_uri": "https://localhost:8080/",
          "height": 49,
          "referenced_widgets": [
            "f6a2fd3e6ed14bb4bc3b1c209801fd39",
            "6cc5a33230f74606b467fcbf6ee0b55a",
            "28e5ef8f3b4c4177ad2e96a0566b2e2f",
            "9774eb815efc47bf9da4d3601cb53c2b",
            "e5aa010dcf7c402d8fc75fd04b235ff9",
            "dc42501de14442798cb451e82d40d737",
            "aa91a9e4498c4e119f36f67fe04a073a",
            "47a932e14dc74ce89c1a8b89aed239a6",
            "7287a5abf66e4ed3bda7ee9d603f9e26",
            "eda7b04844cd42649732a4b4b8e02ff6",
            "f9f4bf95559342e2ab473077f0a4eee4"
          ]
        },
        "id": "yufUUpUEzRA3",
        "outputId": "2a66c2f5-0e1e-4c60-fb85-e8a9af336963"
      },
      "execution_count": 31,
      "outputs": [
        {
          "output_type": "display_data",
          "data": {
            "text/plain": [
              "  0%|          | 0/20 [00:00<?, ?it/s]"
            ],
            "application/vnd.jupyter.widget-view+json": {
              "version_major": 2,
              "version_minor": 0,
              "model_id": "f6a2fd3e6ed14bb4bc3b1c209801fd39"
            }
          },
          "metadata": {}
        }
      ]
    },
    {
      "cell_type": "code",
      "source": [
        "user_vecs = ALS.user_factors\n",
        "item_vecs = ALS.item_factors"
      ],
      "metadata": {
        "id": "IUg7B1eyzULm"
      },
      "execution_count": 32,
      "outputs": []
    },
    {
      "cell_type": "code",
      "source": [
        "print(user_vecs.shape,'\\n',item_vecs.shape)"
      ],
      "metadata": {
        "colab": {
          "base_uri": "https://localhost:8080/"
        },
        "id": "l25kI49LzWOE",
        "outputId": "92acc2d2-0996-4580-8b60-63132de4ab18"
      },
      "execution_count": 33,
      "outputs": [
        {
          "output_type": "stream",
          "name": "stdout",
          "text": [
            "(50705, 200) \n",
            " (31121, 200)\n"
          ]
        }
      ]
    },
    {
      "cell_type": "markdown",
      "source": [
        "# 4. 추천"
      ],
      "metadata": {
        "id": "fSx3jgWN0l0E"
      }
    },
    {
      "cell_type": "code",
      "source": [
        "product = pd.read_parquet('/content/drive/MyDrive/CP2_Phase2/product.parquet')"
      ],
      "metadata": {
        "id": "n-ItCd2hz-O8"
      },
      "execution_count": 34,
      "outputs": []
    },
    {
      "cell_type": "code",
      "source": [
        "# 중복값제거 \n",
        "product_c =product.drop_duplicates(subset=['productDisplayName'], keep='first',ignore_index=True)"
      ],
      "metadata": {
        "id": "_wlZaaAp1IcC"
      },
      "execution_count": 38,
      "outputs": []
    },
    {
      "cell_type": "code",
      "source": [
        "def recommendation(customer_idx,k):\n",
        "  item = ALS.recommend(customer_idx,user_items[customer_idx],k)[0]\n",
        "  recommend=pd.DataFrame(columns=product_c.columns)\n",
        "  for i in item:\n",
        "    item_re= product_c[product_c['p_idx'].isin([i])]\n",
        "    recommend=pd.concat([recommend,item_re])\n",
        "  return recommend"
      ],
      "metadata": {
        "id": "fGgkCgwD0ucR"
      },
      "execution_count": 42,
      "outputs": []
    },
    {
      "cell_type": "code",
      "source": [
        "recommendation(2212,10)"
      ],
      "metadata": {
        "colab": {
          "base_uri": "https://localhost:8080/",
          "height": 618
        },
        "id": "Xj_locfQ0042",
        "outputId": "0529105a-46a2-4238-85d0-7eebc904094c"
      },
      "execution_count": 43,
      "outputs": [
        {
          "output_type": "execute_result",
          "data": {
            "text/plain": [
              "     product_id gender masterCategory subCategory            articleType  \\\n",
              "953       48911  Women    Accessories   Jewellery                Pendant   \n",
              "1424      47794  Women    Accessories        Bags               Handbags   \n",
              "2102      54174  Women    Accessories   Jewellery    Necklace and Chains   \n",
              "4803      59524  Women    Accessories   Jewellery               Earrings   \n",
              "1606      11922    Men       Footwear       Shoes           Formal Shoes   \n",
              "2170      44923    Men        Apparel  Bottomwear                  Jeans   \n",
              "7727      59380  Women        Apparel     Topwear                 Kurtas   \n",
              "2057      38836  Women        Apparel       Dress                Dresses   \n",
              "175       35322  Women    Accessories   Jewellery               Earrings   \n",
              "9013      44001    Men  Personal Care   Fragrance  Perfume and Body Mist   \n",
              "\n",
              "     baseColour  season  year   usage  \\\n",
              "953      Silver  Summer  2013  Casual   \n",
              "1424      Brown  Summer  2012  Casual   \n",
              "2102       Gold  Summer  2012  Casual   \n",
              "4803     Silver  Summer  2015  Casual   \n",
              "1606      Black  Summer  2012  Formal   \n",
              "2170       Blue  Summer  2012  Casual   \n",
              "7727       Blue  Summer  2012  Ethnic   \n",
              "2057       Blue  Summer  2012  Casual   \n",
              "175      Silver  Winter  2016  Ethnic   \n",
              "9013  Navy Blue  Spring  2017  Casual   \n",
              "\n",
              "                              productDisplayName  p_idx  \n",
              "953       Lucera Women Silver Pendant with Chain  16318  \n",
              "1424                  Murcia Women Brown Handbag  17291  \n",
              "2102                     Femella Golden Necklace   9396  \n",
              "4803                      Lucera Silver Earrings  16294  \n",
              "1606  Franco Leone Men Formal Black Formal Shoes  10714  \n",
              "2170                 Jack & Jones Men Blue Jeans  12986  \n",
              "7727            Vishudh Women Blue Printed Kurta  29504  \n",
              "2057             Latin Quarters Women Blue Dress  14455  \n",
              "175       Fabindia Women Anusuya Silver Earrings   8542  \n",
              "9013                     Police Men Pure Perfume  21072  "
            ],
            "text/html": [
              "\n",
              "  <div id=\"df-e68bdce1-1c0c-45a8-9894-dfc9fa2070fe\">\n",
              "    <div class=\"colab-df-container\">\n",
              "      <div>\n",
              "<style scoped>\n",
              "    .dataframe tbody tr th:only-of-type {\n",
              "        vertical-align: middle;\n",
              "    }\n",
              "\n",
              "    .dataframe tbody tr th {\n",
              "        vertical-align: top;\n",
              "    }\n",
              "\n",
              "    .dataframe thead th {\n",
              "        text-align: right;\n",
              "    }\n",
              "</style>\n",
              "<table border=\"1\" class=\"dataframe\">\n",
              "  <thead>\n",
              "    <tr style=\"text-align: right;\">\n",
              "      <th></th>\n",
              "      <th>product_id</th>\n",
              "      <th>gender</th>\n",
              "      <th>masterCategory</th>\n",
              "      <th>subCategory</th>\n",
              "      <th>articleType</th>\n",
              "      <th>baseColour</th>\n",
              "      <th>season</th>\n",
              "      <th>year</th>\n",
              "      <th>usage</th>\n",
              "      <th>productDisplayName</th>\n",
              "      <th>p_idx</th>\n",
              "    </tr>\n",
              "  </thead>\n",
              "  <tbody>\n",
              "    <tr>\n",
              "      <th>953</th>\n",
              "      <td>48911</td>\n",
              "      <td>Women</td>\n",
              "      <td>Accessories</td>\n",
              "      <td>Jewellery</td>\n",
              "      <td>Pendant</td>\n",
              "      <td>Silver</td>\n",
              "      <td>Summer</td>\n",
              "      <td>2013</td>\n",
              "      <td>Casual</td>\n",
              "      <td>Lucera Women Silver Pendant with Chain</td>\n",
              "      <td>16318</td>\n",
              "    </tr>\n",
              "    <tr>\n",
              "      <th>1424</th>\n",
              "      <td>47794</td>\n",
              "      <td>Women</td>\n",
              "      <td>Accessories</td>\n",
              "      <td>Bags</td>\n",
              "      <td>Handbags</td>\n",
              "      <td>Brown</td>\n",
              "      <td>Summer</td>\n",
              "      <td>2012</td>\n",
              "      <td>Casual</td>\n",
              "      <td>Murcia Women Brown Handbag</td>\n",
              "      <td>17291</td>\n",
              "    </tr>\n",
              "    <tr>\n",
              "      <th>2102</th>\n",
              "      <td>54174</td>\n",
              "      <td>Women</td>\n",
              "      <td>Accessories</td>\n",
              "      <td>Jewellery</td>\n",
              "      <td>Necklace and Chains</td>\n",
              "      <td>Gold</td>\n",
              "      <td>Summer</td>\n",
              "      <td>2012</td>\n",
              "      <td>Casual</td>\n",
              "      <td>Femella Golden Necklace</td>\n",
              "      <td>9396</td>\n",
              "    </tr>\n",
              "    <tr>\n",
              "      <th>4803</th>\n",
              "      <td>59524</td>\n",
              "      <td>Women</td>\n",
              "      <td>Accessories</td>\n",
              "      <td>Jewellery</td>\n",
              "      <td>Earrings</td>\n",
              "      <td>Silver</td>\n",
              "      <td>Summer</td>\n",
              "      <td>2015</td>\n",
              "      <td>Casual</td>\n",
              "      <td>Lucera Silver Earrings</td>\n",
              "      <td>16294</td>\n",
              "    </tr>\n",
              "    <tr>\n",
              "      <th>1606</th>\n",
              "      <td>11922</td>\n",
              "      <td>Men</td>\n",
              "      <td>Footwear</td>\n",
              "      <td>Shoes</td>\n",
              "      <td>Formal Shoes</td>\n",
              "      <td>Black</td>\n",
              "      <td>Summer</td>\n",
              "      <td>2012</td>\n",
              "      <td>Formal</td>\n",
              "      <td>Franco Leone Men Formal Black Formal Shoes</td>\n",
              "      <td>10714</td>\n",
              "    </tr>\n",
              "    <tr>\n",
              "      <th>2170</th>\n",
              "      <td>44923</td>\n",
              "      <td>Men</td>\n",
              "      <td>Apparel</td>\n",
              "      <td>Bottomwear</td>\n",
              "      <td>Jeans</td>\n",
              "      <td>Blue</td>\n",
              "      <td>Summer</td>\n",
              "      <td>2012</td>\n",
              "      <td>Casual</td>\n",
              "      <td>Jack &amp; Jones Men Blue Jeans</td>\n",
              "      <td>12986</td>\n",
              "    </tr>\n",
              "    <tr>\n",
              "      <th>7727</th>\n",
              "      <td>59380</td>\n",
              "      <td>Women</td>\n",
              "      <td>Apparel</td>\n",
              "      <td>Topwear</td>\n",
              "      <td>Kurtas</td>\n",
              "      <td>Blue</td>\n",
              "      <td>Summer</td>\n",
              "      <td>2012</td>\n",
              "      <td>Ethnic</td>\n",
              "      <td>Vishudh Women Blue Printed Kurta</td>\n",
              "      <td>29504</td>\n",
              "    </tr>\n",
              "    <tr>\n",
              "      <th>2057</th>\n",
              "      <td>38836</td>\n",
              "      <td>Women</td>\n",
              "      <td>Apparel</td>\n",
              "      <td>Dress</td>\n",
              "      <td>Dresses</td>\n",
              "      <td>Blue</td>\n",
              "      <td>Summer</td>\n",
              "      <td>2012</td>\n",
              "      <td>Casual</td>\n",
              "      <td>Latin Quarters Women Blue Dress</td>\n",
              "      <td>14455</td>\n",
              "    </tr>\n",
              "    <tr>\n",
              "      <th>175</th>\n",
              "      <td>35322</td>\n",
              "      <td>Women</td>\n",
              "      <td>Accessories</td>\n",
              "      <td>Jewellery</td>\n",
              "      <td>Earrings</td>\n",
              "      <td>Silver</td>\n",
              "      <td>Winter</td>\n",
              "      <td>2016</td>\n",
              "      <td>Ethnic</td>\n",
              "      <td>Fabindia Women Anusuya Silver Earrings</td>\n",
              "      <td>8542</td>\n",
              "    </tr>\n",
              "    <tr>\n",
              "      <th>9013</th>\n",
              "      <td>44001</td>\n",
              "      <td>Men</td>\n",
              "      <td>Personal Care</td>\n",
              "      <td>Fragrance</td>\n",
              "      <td>Perfume and Body Mist</td>\n",
              "      <td>Navy Blue</td>\n",
              "      <td>Spring</td>\n",
              "      <td>2017</td>\n",
              "      <td>Casual</td>\n",
              "      <td>Police Men Pure Perfume</td>\n",
              "      <td>21072</td>\n",
              "    </tr>\n",
              "  </tbody>\n",
              "</table>\n",
              "</div>\n",
              "      <button class=\"colab-df-convert\" onclick=\"convertToInteractive('df-e68bdce1-1c0c-45a8-9894-dfc9fa2070fe')\"\n",
              "              title=\"Convert this dataframe to an interactive table.\"\n",
              "              style=\"display:none;\">\n",
              "        \n",
              "  <svg xmlns=\"http://www.w3.org/2000/svg\" height=\"24px\"viewBox=\"0 0 24 24\"\n",
              "       width=\"24px\">\n",
              "    <path d=\"M0 0h24v24H0V0z\" fill=\"none\"/>\n",
              "    <path d=\"M18.56 5.44l.94 2.06.94-2.06 2.06-.94-2.06-.94-.94-2.06-.94 2.06-2.06.94zm-11 1L8.5 8.5l.94-2.06 2.06-.94-2.06-.94L8.5 2.5l-.94 2.06-2.06.94zm10 10l.94 2.06.94-2.06 2.06-.94-2.06-.94-.94-2.06-.94 2.06-2.06.94z\"/><path d=\"M17.41 7.96l-1.37-1.37c-.4-.4-.92-.59-1.43-.59-.52 0-1.04.2-1.43.59L10.3 9.45l-7.72 7.72c-.78.78-.78 2.05 0 2.83L4 21.41c.39.39.9.59 1.41.59.51 0 1.02-.2 1.41-.59l7.78-7.78 2.81-2.81c.8-.78.8-2.07 0-2.86zM5.41 20L4 18.59l7.72-7.72 1.47 1.35L5.41 20z\"/>\n",
              "  </svg>\n",
              "      </button>\n",
              "      \n",
              "  <style>\n",
              "    .colab-df-container {\n",
              "      display:flex;\n",
              "      flex-wrap:wrap;\n",
              "      gap: 12px;\n",
              "    }\n",
              "\n",
              "    .colab-df-convert {\n",
              "      background-color: #E8F0FE;\n",
              "      border: none;\n",
              "      border-radius: 50%;\n",
              "      cursor: pointer;\n",
              "      display: none;\n",
              "      fill: #1967D2;\n",
              "      height: 32px;\n",
              "      padding: 0 0 0 0;\n",
              "      width: 32px;\n",
              "    }\n",
              "\n",
              "    .colab-df-convert:hover {\n",
              "      background-color: #E2EBFA;\n",
              "      box-shadow: 0px 1px 2px rgba(60, 64, 67, 0.3), 0px 1px 3px 1px rgba(60, 64, 67, 0.15);\n",
              "      fill: #174EA6;\n",
              "    }\n",
              "\n",
              "    [theme=dark] .colab-df-convert {\n",
              "      background-color: #3B4455;\n",
              "      fill: #D2E3FC;\n",
              "    }\n",
              "\n",
              "    [theme=dark] .colab-df-convert:hover {\n",
              "      background-color: #434B5C;\n",
              "      box-shadow: 0px 1px 3px 1px rgba(0, 0, 0, 0.15);\n",
              "      filter: drop-shadow(0px 1px 2px rgba(0, 0, 0, 0.3));\n",
              "      fill: #FFFFFF;\n",
              "    }\n",
              "  </style>\n",
              "\n",
              "      <script>\n",
              "        const buttonEl =\n",
              "          document.querySelector('#df-e68bdce1-1c0c-45a8-9894-dfc9fa2070fe button.colab-df-convert');\n",
              "        buttonEl.style.display =\n",
              "          google.colab.kernel.accessAllowed ? 'block' : 'none';\n",
              "\n",
              "        async function convertToInteractive(key) {\n",
              "          const element = document.querySelector('#df-e68bdce1-1c0c-45a8-9894-dfc9fa2070fe');\n",
              "          const dataTable =\n",
              "            await google.colab.kernel.invokeFunction('convertToInteractive',\n",
              "                                                     [key], {});\n",
              "          if (!dataTable) return;\n",
              "\n",
              "          const docLinkHtml = 'Like what you see? Visit the ' +\n",
              "            '<a target=\"_blank\" href=https://colab.research.google.com/notebooks/data_table.ipynb>data table notebook</a>'\n",
              "            + ' to learn more about interactive tables.';\n",
              "          element.innerHTML = '';\n",
              "          dataTable['output_type'] = 'display_data';\n",
              "          await google.colab.output.renderOutput(dataTable, element);\n",
              "          const docLink = document.createElement('div');\n",
              "          docLink.innerHTML = docLinkHtml;\n",
              "          element.appendChild(docLink);\n",
              "        }\n",
              "      </script>\n",
              "    </div>\n",
              "  </div>\n",
              "  "
            ]
          },
          "metadata": {},
          "execution_count": 43
        }
      ]
    },
    {
      "cell_type": "markdown",
      "source": [
        "# 5. precision/recall@k"
      ],
      "metadata": {
        "id": "62zoth4C1m_r"
      }
    },
    {
      "cell_type": "code",
      "source": [
        "# als추천과 test셋에 있는 p_idx 비교\n",
        "def precision_recall(user_id):\n",
        "  \n",
        "  count=0\n",
        "  user_buy = test[test['c_idx']==user_id].p_idx\n",
        "  recommendations_t = ALS.recommend(user_id, user_items[user_id],filter_already_liked_items=True,N=25)\n",
        "  for i in user_buy:\n",
        "    for j in recommendations_t[0]:\n",
        "      if i==j:\n",
        "        count+=1\n",
        "  \n",
        "  precision = count/len(recommendations_t[0])\n",
        "\n",
        "  try: # userbuy가 없는 데이터셋이 존재\n",
        "    recall = count/len(user_buy)\n",
        "    return precision, recall\n",
        "\n",
        "  except:\n",
        "    pass\n",
        "  "
      ],
      "metadata": {
        "id": "m8rSLh7j06i7"
      },
      "execution_count": 66,
      "outputs": []
    },
    {
      "cell_type": "code",
      "source": [
        "precision_recall(26569)"
      ],
      "metadata": {
        "colab": {
          "base_uri": "https://localhost:8080/"
        },
        "id": "PD9czEVm14HX",
        "outputId": "da8d26cf-7114-4eef-a7ed-0f4872dbfd58"
      },
      "execution_count": 67,
      "outputs": [
        {
          "output_type": "execute_result",
          "data": {
            "text/plain": [
              "(0.04, 0.008)"
            ]
          },
          "metadata": {},
          "execution_count": 67
        }
      ]
    },
    {
      "cell_type": "code",
      "source": [
        "precision_recall(4582)"
      ],
      "metadata": {
        "id": "dp2WHLX3166H"
      },
      "execution_count": 68,
      "outputs": []
    },
    {
      "cell_type": "code",
      "source": [
        "precision_recall(639)"
      ],
      "metadata": {
        "colab": {
          "base_uri": "https://localhost:8080/"
        },
        "id": "I0PtKQDF2t0l",
        "outputId": "aad981e4-a4c1-473d-cf30-e5127d79236c"
      },
      "execution_count": 72,
      "outputs": [
        {
          "output_type": "execute_result",
          "data": {
            "text/plain": [
              "(0.0, 0.0)"
            ]
          },
          "metadata": {},
          "execution_count": 72
        }
      ]
    },
    {
      "cell_type": "markdown",
      "source": [
        "- 흐음"
      ],
      "metadata": {
        "id": "ckl9vZA74Lbj"
      }
    },
    {
      "cell_type": "code",
      "source": [
        "def precision(user_id):\n",
        "  count=0\n",
        "  recommendations_f = ALS.recommend(user_id, user_items[user_id],filter_already_liked_items=False,N=25)\n",
        "  recommendations_t = ALS.recommend(user_id, user_items[user_id],filter_already_liked_items=True,N=25)\n",
        "  for i in recommendations_f[0]:\n",
        "    for j in recommendations_t[0]:\n",
        "      if i==j:\n",
        "        count+=1\n",
        "  \n",
        "  precision = count/len(recommendations_t[0])  \n",
        "  return precision"
      ],
      "metadata": {
        "id": "UZtx-LK03aCZ"
      },
      "execution_count": 73,
      "outputs": []
    },
    {
      "cell_type": "code",
      "source": [
        "precision(4569)"
      ],
      "metadata": {
        "colab": {
          "base_uri": "https://localhost:8080/"
        },
        "id": "eYZZL7vu35Qn",
        "outputId": "a3af682a-0712-44c9-dd22-cd0d4bea5fb9"
      },
      "execution_count": 74,
      "outputs": [
        {
          "output_type": "execute_result",
          "data": {
            "text/plain": [
              "0.52"
            ]
          },
          "metadata": {},
          "execution_count": 74
        }
      ]
    },
    {
      "cell_type": "code",
      "source": [
        "precision(26569)"
      ],
      "metadata": {
        "colab": {
          "base_uri": "https://localhost:8080/"
        },
        "id": "npeogz6736h0",
        "outputId": "edb9dbef-6902-4466-9296-b670df879b09"
      },
      "execution_count": 77,
      "outputs": [
        {
          "output_type": "execute_result",
          "data": {
            "text/plain": [
              "1.0"
            ]
          },
          "metadata": {},
          "execution_count": 77
        }
      ]
    },
    {
      "cell_type": "code",
      "source": [
        "precision(89)"
      ],
      "metadata": {
        "colab": {
          "base_uri": "https://localhost:8080/"
        },
        "id": "RbSBwPDB394R",
        "outputId": "793a0b84-2b22-429f-c1f5-65fcf3048a3b"
      },
      "execution_count": 76,
      "outputs": [
        {
          "output_type": "execute_result",
          "data": {
            "text/plain": [
              "0.68"
            ]
          },
          "metadata": {},
          "execution_count": 76
        }
      ]
    },
    {
      "cell_type": "code",
      "source": [
        "precision(47)"
      ],
      "metadata": {
        "colab": {
          "base_uri": "https://localhost:8080/"
        },
        "id": "1s3mC-D_3_aA",
        "outputId": "32fb6611-60bd-4e9a-d223-45a088355a6e"
      },
      "execution_count": 81,
      "outputs": [
        {
          "output_type": "execute_result",
          "data": {
            "text/plain": [
              "0.48"
            ]
          },
          "metadata": {},
          "execution_count": 81
        }
      ]
    },
    {
      "cell_type": "markdown",
      "source": [
        "# 6. 고객 세분화"
      ],
      "metadata": {
        "id": "g7jZdBvQ4iqz"
      }
    },
    {
      "cell_type": "code",
      "source": [
        "df_group=df.groupby(['c_idx'], as_index = False).count()\n",
        "upper_19 = list(df_group.query(\"values >= 19\").index)\n",
        "lower_19 = list(df_group.query(\"values < 19\").index)"
      ],
      "metadata": {
        "id": "Go8CrC844H4j"
      },
      "execution_count": 83,
      "outputs": []
    },
    {
      "cell_type": "code",
      "source": [
        "def recommendations(customer_id,k):\n",
        "  '''\n",
        "  if : 물건 산 횟수가 19회 이상인 경우 -> ALS.recommend() 이용\n",
        "  elif : 물건 산 횟수가 19회 이하인 경우 -> ALS.similar_items() 이용 \n",
        "         젤 최근에 산 물건의 인덱스를 similar_items()에 넣기\n",
        "  else : 물건을 사지 않은 경우 -> 젤 많이 팔린 상품 추천\n",
        "  \n",
        "  CB는 언제 사용하지?! CB는 문제가 물건이 너무 많아서 램이 터짐 그래서 15000개까지만 됨..\n",
        "  '''\n",
        "  if customer_id in upper_19:\n",
        "    recommend_t = ALS.recommend(customer_id, user_items[customer_id],filter_already_liked_items=True,N=k)\n",
        "\n",
        "  elif customer_id in lower_19:\n",
        "    pass\n",
        "    \n",
        "  \n",
        "  else:\n",
        "    pass"
      ],
      "metadata": {
        "id": "WUE8EYNx4iNF"
      },
      "execution_count": 1,
      "outputs": []
    },
    {
      "cell_type": "code",
      "source": [],
      "metadata": {
        "id": "ks5V9T66YguB"
      },
      "execution_count": null,
      "outputs": []
    }
  ]
}