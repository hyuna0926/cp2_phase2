{
  "nbformat": 4,
  "nbformat_minor": 0,
  "metadata": {
    "colab": {
      "provenance": [],
      "mount_file_id": "1j3wmjo5Kh0XGCW-ZD3Q2CQWxnpAzRGTE",
      "authorship_tag": "ABX9TyPzdALTctFa6beoxhm4dVmx",
      "include_colab_link": true
    },
    "kernelspec": {
      "name": "python3",
      "display_name": "Python 3"
    },
    "language_info": {
      "name": "python"
    }
  },
  "cells": [
    {
      "cell_type": "markdown",
      "metadata": {
        "id": "view-in-github",
        "colab_type": "text"
      },
      "source": [
        "<a href=\"https://colab.research.google.com/github/hyuna0926/cp2_phase2/blob/main/2%EC%9B%94%202%EC%9D%BC/model_data.ipynb\" target=\"_parent\"><img src=\"https://colab.research.google.com/assets/colab-badge.svg\" alt=\"Open In Colab\"/></a>"
      ]
    },
    {
      "cell_type": "markdown",
      "source": [
        "# 1. 필요 라이브러리 들고 오기"
      ],
      "metadata": {
        "id": "nPYNNxSQEZJl"
      }
    },
    {
      "cell_type": "code",
      "execution_count": 32,
      "metadata": {
        "colab": {
          "base_uri": "https://localhost:8080/"
        },
        "id": "IoWuBwEAB1VC",
        "outputId": "a07620ee-d63b-471c-85d5-0b09d8bd385e"
      },
      "outputs": [
        {
          "output_type": "stream",
          "name": "stdout",
          "text": [
            "Looking in indexes: https://pypi.org/simple, https://us-python.pkg.dev/colab-wheels/public/simple/\n",
            "Requirement already satisfied: implicit in /usr/local/lib/python3.8/dist-packages (0.6.2)\n",
            "Requirement already satisfied: numpy in /usr/local/lib/python3.8/dist-packages (from implicit) (1.21.6)\n",
            "Requirement already satisfied: scipy>=0.16 in /usr/local/lib/python3.8/dist-packages (from implicit) (1.7.3)\n",
            "Requirement already satisfied: tqdm>=4.27 in /usr/local/lib/python3.8/dist-packages (from implicit) (4.64.1)\n"
          ]
        }
      ],
      "source": [
        "! pip install implicit"
      ]
    },
    {
      "cell_type": "code",
      "source": [
        "import pandas as pd\n",
        "from google.colab import drive\n",
        "from sklearn.model_selection import train_test_split\n",
        "from scipy import sparse\n",
        "from scipy.sparse import csr_matrix\n",
        "from tqdm.notebook import tqdm\n",
        "import numpy as np\n",
        "\n",
        "from implicit.als import AlternatingLeastSquares as ALS\n",
        "import implicit\n",
        "import random\n",
        "import os"
      ],
      "metadata": {
        "id": "9MFdQBNuCbXm"
      },
      "execution_count": 33,
      "outputs": []
    },
    {
      "cell_type": "markdown",
      "source": [
        "# 데이터 합치기\n",
        "- product data 중에 이름이 같은 중복데이터가 존재해 이름으로 그룹화하여 index를 다시 만들었음\n"
      ],
      "metadata": {
        "id": "BNVhHemntODm"
      }
    },
    {
      "cell_type": "code",
      "source": [
        "trans = pd.read_parquet('/content/drive/MyDrive/CP2_Phase2/transaction_new.parquet')\n",
        "customer = pd.read_parquet('/content/drive/MyDrive/CP2_Phase2/customer.parquet')\n",
        "product = pd.read_parquet('/content/drive/MyDrive/CP2_Phase2/product_final.parquet')"
      ],
      "metadata": {
        "id": "DZgIW0BUpuwy"
      },
      "execution_count": 36,
      "outputs": []
    },
    {
      "cell_type": "code",
      "source": [
        "df = pd.read_parquet('/content/drive/MyDrive/CP2_Phase2/df_c.parquet')"
      ],
      "metadata": {
        "id": "f9gbzBc2vp9A"
      },
      "execution_count": 66,
      "outputs": []
    },
    {
      "cell_type": "code",
      "source": [
        "trans['created_at']=trans['created_at'].apply(lambda x: x[:19].replace('T',' '))"
      ],
      "metadata": {
        "id": "yCvWEBXqquto"
      },
      "execution_count": 46,
      "outputs": []
    },
    {
      "cell_type": "code",
      "source": [
        "trans_c = trans[['created_at','customer_id', 'product_id']]"
      ],
      "metadata": {
        "id": "YUnyaO_JqBG2"
      },
      "execution_count": 48,
      "outputs": []
    },
    {
      "cell_type": "code",
      "source": [
        "trans_c.sort_values('created_at')"
      ],
      "metadata": {
        "colab": {
          "base_uri": "https://localhost:8080/",
          "height": 423
        },
        "id": "1_1a1xiRqDfq",
        "outputId": "2ec93f1b-d884-4d25-b8cc-e83a2499e9fc"
      },
      "execution_count": 50,
      "outputs": [
        {
          "output_type": "execute_result",
          "data": {
            "text/plain": [
              "                  created_at  customer_id  product_id\n",
              "1254461  2016-06-30 23:18:44        74089       33314\n",
              "1201589  2016-07-01 02:53:26         6183       16061\n",
              "1201590  2016-07-01 02:53:26         6183        7588\n",
              "1201721  2016-07-01 09:45:51        16228       47650\n",
              "1254460  2016-07-01 22:32:45        73773       32185\n",
              "...                      ...          ...         ...\n",
              "985626   2022-07-31 23:58:50        81975       50710\n",
              "985568   2022-07-31 23:58:53        19551       17773\n",
              "985766   2022-07-31 23:59:03        22285       27404\n",
              "985569   2022-07-31 23:59:19        19551       25189\n",
              "985570   2022-07-31 23:59:45        19551       17311\n",
              "\n",
              "[1254585 rows x 3 columns]"
            ],
            "text/html": [
              "\n",
              "  <div id=\"df-764f740c-913e-4704-92b1-7a1dd8e7acca\">\n",
              "    <div class=\"colab-df-container\">\n",
              "      <div>\n",
              "<style scoped>\n",
              "    .dataframe tbody tr th:only-of-type {\n",
              "        vertical-align: middle;\n",
              "    }\n",
              "\n",
              "    .dataframe tbody tr th {\n",
              "        vertical-align: top;\n",
              "    }\n",
              "\n",
              "    .dataframe thead th {\n",
              "        text-align: right;\n",
              "    }\n",
              "</style>\n",
              "<table border=\"1\" class=\"dataframe\">\n",
              "  <thead>\n",
              "    <tr style=\"text-align: right;\">\n",
              "      <th></th>\n",
              "      <th>created_at</th>\n",
              "      <th>customer_id</th>\n",
              "      <th>product_id</th>\n",
              "    </tr>\n",
              "  </thead>\n",
              "  <tbody>\n",
              "    <tr>\n",
              "      <th>1254461</th>\n",
              "      <td>2016-06-30 23:18:44</td>\n",
              "      <td>74089</td>\n",
              "      <td>33314</td>\n",
              "    </tr>\n",
              "    <tr>\n",
              "      <th>1201589</th>\n",
              "      <td>2016-07-01 02:53:26</td>\n",
              "      <td>6183</td>\n",
              "      <td>16061</td>\n",
              "    </tr>\n",
              "    <tr>\n",
              "      <th>1201590</th>\n",
              "      <td>2016-07-01 02:53:26</td>\n",
              "      <td>6183</td>\n",
              "      <td>7588</td>\n",
              "    </tr>\n",
              "    <tr>\n",
              "      <th>1201721</th>\n",
              "      <td>2016-07-01 09:45:51</td>\n",
              "      <td>16228</td>\n",
              "      <td>47650</td>\n",
              "    </tr>\n",
              "    <tr>\n",
              "      <th>1254460</th>\n",
              "      <td>2016-07-01 22:32:45</td>\n",
              "      <td>73773</td>\n",
              "      <td>32185</td>\n",
              "    </tr>\n",
              "    <tr>\n",
              "      <th>...</th>\n",
              "      <td>...</td>\n",
              "      <td>...</td>\n",
              "      <td>...</td>\n",
              "    </tr>\n",
              "    <tr>\n",
              "      <th>985626</th>\n",
              "      <td>2022-07-31 23:58:50</td>\n",
              "      <td>81975</td>\n",
              "      <td>50710</td>\n",
              "    </tr>\n",
              "    <tr>\n",
              "      <th>985568</th>\n",
              "      <td>2022-07-31 23:58:53</td>\n",
              "      <td>19551</td>\n",
              "      <td>17773</td>\n",
              "    </tr>\n",
              "    <tr>\n",
              "      <th>985766</th>\n",
              "      <td>2022-07-31 23:59:03</td>\n",
              "      <td>22285</td>\n",
              "      <td>27404</td>\n",
              "    </tr>\n",
              "    <tr>\n",
              "      <th>985569</th>\n",
              "      <td>2022-07-31 23:59:19</td>\n",
              "      <td>19551</td>\n",
              "      <td>25189</td>\n",
              "    </tr>\n",
              "    <tr>\n",
              "      <th>985570</th>\n",
              "      <td>2022-07-31 23:59:45</td>\n",
              "      <td>19551</td>\n",
              "      <td>17311</td>\n",
              "    </tr>\n",
              "  </tbody>\n",
              "</table>\n",
              "<p>1254585 rows × 3 columns</p>\n",
              "</div>\n",
              "      <button class=\"colab-df-convert\" onclick=\"convertToInteractive('df-764f740c-913e-4704-92b1-7a1dd8e7acca')\"\n",
              "              title=\"Convert this dataframe to an interactive table.\"\n",
              "              style=\"display:none;\">\n",
              "        \n",
              "  <svg xmlns=\"http://www.w3.org/2000/svg\" height=\"24px\"viewBox=\"0 0 24 24\"\n",
              "       width=\"24px\">\n",
              "    <path d=\"M0 0h24v24H0V0z\" fill=\"none\"/>\n",
              "    <path d=\"M18.56 5.44l.94 2.06.94-2.06 2.06-.94-2.06-.94-.94-2.06-.94 2.06-2.06.94zm-11 1L8.5 8.5l.94-2.06 2.06-.94-2.06-.94L8.5 2.5l-.94 2.06-2.06.94zm10 10l.94 2.06.94-2.06 2.06-.94-2.06-.94-.94-2.06-.94 2.06-2.06.94z\"/><path d=\"M17.41 7.96l-1.37-1.37c-.4-.4-.92-.59-1.43-.59-.52 0-1.04.2-1.43.59L10.3 9.45l-7.72 7.72c-.78.78-.78 2.05 0 2.83L4 21.41c.39.39.9.59 1.41.59.51 0 1.02-.2 1.41-.59l7.78-7.78 2.81-2.81c.8-.78.8-2.07 0-2.86zM5.41 20L4 18.59l7.72-7.72 1.47 1.35L5.41 20z\"/>\n",
              "  </svg>\n",
              "      </button>\n",
              "      \n",
              "  <style>\n",
              "    .colab-df-container {\n",
              "      display:flex;\n",
              "      flex-wrap:wrap;\n",
              "      gap: 12px;\n",
              "    }\n",
              "\n",
              "    .colab-df-convert {\n",
              "      background-color: #E8F0FE;\n",
              "      border: none;\n",
              "      border-radius: 50%;\n",
              "      cursor: pointer;\n",
              "      display: none;\n",
              "      fill: #1967D2;\n",
              "      height: 32px;\n",
              "      padding: 0 0 0 0;\n",
              "      width: 32px;\n",
              "    }\n",
              "\n",
              "    .colab-df-convert:hover {\n",
              "      background-color: #E2EBFA;\n",
              "      box-shadow: 0px 1px 2px rgba(60, 64, 67, 0.3), 0px 1px 3px 1px rgba(60, 64, 67, 0.15);\n",
              "      fill: #174EA6;\n",
              "    }\n",
              "\n",
              "    [theme=dark] .colab-df-convert {\n",
              "      background-color: #3B4455;\n",
              "      fill: #D2E3FC;\n",
              "    }\n",
              "\n",
              "    [theme=dark] .colab-df-convert:hover {\n",
              "      background-color: #434B5C;\n",
              "      box-shadow: 0px 1px 3px 1px rgba(0, 0, 0, 0.15);\n",
              "      filter: drop-shadow(0px 1px 2px rgba(0, 0, 0, 0.3));\n",
              "      fill: #FFFFFF;\n",
              "    }\n",
              "  </style>\n",
              "\n",
              "      <script>\n",
              "        const buttonEl =\n",
              "          document.querySelector('#df-764f740c-913e-4704-92b1-7a1dd8e7acca button.colab-df-convert');\n",
              "        buttonEl.style.display =\n",
              "          google.colab.kernel.accessAllowed ? 'block' : 'none';\n",
              "\n",
              "        async function convertToInteractive(key) {\n",
              "          const element = document.querySelector('#df-764f740c-913e-4704-92b1-7a1dd8e7acca');\n",
              "          const dataTable =\n",
              "            await google.colab.kernel.invokeFunction('convertToInteractive',\n",
              "                                                     [key], {});\n",
              "          if (!dataTable) return;\n",
              "\n",
              "          const docLinkHtml = 'Like what you see? Visit the ' +\n",
              "            '<a target=\"_blank\" href=https://colab.research.google.com/notebooks/data_table.ipynb>data table notebook</a>'\n",
              "            + ' to learn more about interactive tables.';\n",
              "          element.innerHTML = '';\n",
              "          dataTable['output_type'] = 'display_data';\n",
              "          await google.colab.output.renderOutput(dataTable, element);\n",
              "          const docLink = document.createElement('div');\n",
              "          docLink.innerHTML = docLinkHtml;\n",
              "          element.appendChild(docLink);\n",
              "        }\n",
              "      </script>\n",
              "    </div>\n",
              "  </div>\n",
              "  "
            ]
          },
          "metadata": {},
          "execution_count": 50
        }
      ]
    },
    {
      "cell_type": "code",
      "source": [
        "cus=trans_c.groupby('customer_id').count()['created_at'].to_frame().reset_index()\n",
        "cus['c_idx']= cus.index"
      ],
      "metadata": {
        "id": "i0r7pi-xr0BM"
      },
      "execution_count": 70,
      "outputs": []
    },
    {
      "cell_type": "code",
      "source": [
        "cus"
      ],
      "metadata": {
        "colab": {
          "base_uri": "https://localhost:8080/",
          "height": 423
        },
        "id": "Zk7k4tg4xgZV",
        "outputId": "295f4636-bf31-4a82-9574-2f9dd456e4d1"
      },
      "execution_count": 71,
      "outputs": [
        {
          "output_type": "execute_result",
          "data": {
            "text/plain": [
              "       customer_id  created_at  c_idx\n",
              "0                3          71      0\n",
              "1                8           8      1\n",
              "2                9           8      2\n",
              "3               11           1      3\n",
              "4               15           9      4\n",
              "...            ...         ...    ...\n",
              "50700        99992          17  50700\n",
              "50701        99995          79  50701\n",
              "50702        99997           1  50702\n",
              "50703        99998          24  50703\n",
              "50704        99999           1  50704\n",
              "\n",
              "[50705 rows x 3 columns]"
            ],
            "text/html": [
              "\n",
              "  <div id=\"df-f9f6899f-8a5c-4abd-a123-cf614fea10b8\">\n",
              "    <div class=\"colab-df-container\">\n",
              "      <div>\n",
              "<style scoped>\n",
              "    .dataframe tbody tr th:only-of-type {\n",
              "        vertical-align: middle;\n",
              "    }\n",
              "\n",
              "    .dataframe tbody tr th {\n",
              "        vertical-align: top;\n",
              "    }\n",
              "\n",
              "    .dataframe thead th {\n",
              "        text-align: right;\n",
              "    }\n",
              "</style>\n",
              "<table border=\"1\" class=\"dataframe\">\n",
              "  <thead>\n",
              "    <tr style=\"text-align: right;\">\n",
              "      <th></th>\n",
              "      <th>customer_id</th>\n",
              "      <th>created_at</th>\n",
              "      <th>c_idx</th>\n",
              "    </tr>\n",
              "  </thead>\n",
              "  <tbody>\n",
              "    <tr>\n",
              "      <th>0</th>\n",
              "      <td>3</td>\n",
              "      <td>71</td>\n",
              "      <td>0</td>\n",
              "    </tr>\n",
              "    <tr>\n",
              "      <th>1</th>\n",
              "      <td>8</td>\n",
              "      <td>8</td>\n",
              "      <td>1</td>\n",
              "    </tr>\n",
              "    <tr>\n",
              "      <th>2</th>\n",
              "      <td>9</td>\n",
              "      <td>8</td>\n",
              "      <td>2</td>\n",
              "    </tr>\n",
              "    <tr>\n",
              "      <th>3</th>\n",
              "      <td>11</td>\n",
              "      <td>1</td>\n",
              "      <td>3</td>\n",
              "    </tr>\n",
              "    <tr>\n",
              "      <th>4</th>\n",
              "      <td>15</td>\n",
              "      <td>9</td>\n",
              "      <td>4</td>\n",
              "    </tr>\n",
              "    <tr>\n",
              "      <th>...</th>\n",
              "      <td>...</td>\n",
              "      <td>...</td>\n",
              "      <td>...</td>\n",
              "    </tr>\n",
              "    <tr>\n",
              "      <th>50700</th>\n",
              "      <td>99992</td>\n",
              "      <td>17</td>\n",
              "      <td>50700</td>\n",
              "    </tr>\n",
              "    <tr>\n",
              "      <th>50701</th>\n",
              "      <td>99995</td>\n",
              "      <td>79</td>\n",
              "      <td>50701</td>\n",
              "    </tr>\n",
              "    <tr>\n",
              "      <th>50702</th>\n",
              "      <td>99997</td>\n",
              "      <td>1</td>\n",
              "      <td>50702</td>\n",
              "    </tr>\n",
              "    <tr>\n",
              "      <th>50703</th>\n",
              "      <td>99998</td>\n",
              "      <td>24</td>\n",
              "      <td>50703</td>\n",
              "    </tr>\n",
              "    <tr>\n",
              "      <th>50704</th>\n",
              "      <td>99999</td>\n",
              "      <td>1</td>\n",
              "      <td>50704</td>\n",
              "    </tr>\n",
              "  </tbody>\n",
              "</table>\n",
              "<p>50705 rows × 3 columns</p>\n",
              "</div>\n",
              "      <button class=\"colab-df-convert\" onclick=\"convertToInteractive('df-f9f6899f-8a5c-4abd-a123-cf614fea10b8')\"\n",
              "              title=\"Convert this dataframe to an interactive table.\"\n",
              "              style=\"display:none;\">\n",
              "        \n",
              "  <svg xmlns=\"http://www.w3.org/2000/svg\" height=\"24px\"viewBox=\"0 0 24 24\"\n",
              "       width=\"24px\">\n",
              "    <path d=\"M0 0h24v24H0V0z\" fill=\"none\"/>\n",
              "    <path d=\"M18.56 5.44l.94 2.06.94-2.06 2.06-.94-2.06-.94-.94-2.06-.94 2.06-2.06.94zm-11 1L8.5 8.5l.94-2.06 2.06-.94-2.06-.94L8.5 2.5l-.94 2.06-2.06.94zm10 10l.94 2.06.94-2.06 2.06-.94-2.06-.94-.94-2.06-.94 2.06-2.06.94z\"/><path d=\"M17.41 7.96l-1.37-1.37c-.4-.4-.92-.59-1.43-.59-.52 0-1.04.2-1.43.59L10.3 9.45l-7.72 7.72c-.78.78-.78 2.05 0 2.83L4 21.41c.39.39.9.59 1.41.59.51 0 1.02-.2 1.41-.59l7.78-7.78 2.81-2.81c.8-.78.8-2.07 0-2.86zM5.41 20L4 18.59l7.72-7.72 1.47 1.35L5.41 20z\"/>\n",
              "  </svg>\n",
              "      </button>\n",
              "      \n",
              "  <style>\n",
              "    .colab-df-container {\n",
              "      display:flex;\n",
              "      flex-wrap:wrap;\n",
              "      gap: 12px;\n",
              "    }\n",
              "\n",
              "    .colab-df-convert {\n",
              "      background-color: #E8F0FE;\n",
              "      border: none;\n",
              "      border-radius: 50%;\n",
              "      cursor: pointer;\n",
              "      display: none;\n",
              "      fill: #1967D2;\n",
              "      height: 32px;\n",
              "      padding: 0 0 0 0;\n",
              "      width: 32px;\n",
              "    }\n",
              "\n",
              "    .colab-df-convert:hover {\n",
              "      background-color: #E2EBFA;\n",
              "      box-shadow: 0px 1px 2px rgba(60, 64, 67, 0.3), 0px 1px 3px 1px rgba(60, 64, 67, 0.15);\n",
              "      fill: #174EA6;\n",
              "    }\n",
              "\n",
              "    [theme=dark] .colab-df-convert {\n",
              "      background-color: #3B4455;\n",
              "      fill: #D2E3FC;\n",
              "    }\n",
              "\n",
              "    [theme=dark] .colab-df-convert:hover {\n",
              "      background-color: #434B5C;\n",
              "      box-shadow: 0px 1px 3px 1px rgba(0, 0, 0, 0.15);\n",
              "      filter: drop-shadow(0px 1px 2px rgba(0, 0, 0, 0.3));\n",
              "      fill: #FFFFFF;\n",
              "    }\n",
              "  </style>\n",
              "\n",
              "      <script>\n",
              "        const buttonEl =\n",
              "          document.querySelector('#df-f9f6899f-8a5c-4abd-a123-cf614fea10b8 button.colab-df-convert');\n",
              "        buttonEl.style.display =\n",
              "          google.colab.kernel.accessAllowed ? 'block' : 'none';\n",
              "\n",
              "        async function convertToInteractive(key) {\n",
              "          const element = document.querySelector('#df-f9f6899f-8a5c-4abd-a123-cf614fea10b8');\n",
              "          const dataTable =\n",
              "            await google.colab.kernel.invokeFunction('convertToInteractive',\n",
              "                                                     [key], {});\n",
              "          if (!dataTable) return;\n",
              "\n",
              "          const docLinkHtml = 'Like what you see? Visit the ' +\n",
              "            '<a target=\"_blank\" href=https://colab.research.google.com/notebooks/data_table.ipynb>data table notebook</a>'\n",
              "            + ' to learn more about interactive tables.';\n",
              "          element.innerHTML = '';\n",
              "          dataTable['output_type'] = 'display_data';\n",
              "          await google.colab.output.renderOutput(dataTable, element);\n",
              "          const docLink = document.createElement('div');\n",
              "          docLink.innerHTML = docLinkHtml;\n",
              "          element.appendChild(docLink);\n",
              "        }\n",
              "      </script>\n",
              "    </div>\n",
              "  </div>\n",
              "  "
            ]
          },
          "metadata": {},
          "execution_count": 71
        }
      ]
    },
    {
      "cell_type": "code",
      "source": [
        "tran_cus = pd.merge(trans_c, cus[['c_idx','customer_id']], on='customer_id')"
      ],
      "metadata": {
        "id": "zi6Eh5sCrnHb"
      },
      "execution_count": 72,
      "outputs": []
    },
    {
      "cell_type": "code",
      "source": [
        "tran_cus.head()"
      ],
      "metadata": {
        "colab": {
          "base_uri": "https://localhost:8080/",
          "height": 206
        },
        "id": "oveaazIfsBge",
        "outputId": "90dceca6-161c-4e16-cd4a-2c16dc2383ee"
      },
      "execution_count": 73,
      "outputs": [
        {
          "output_type": "execute_result",
          "data": {
            "text/plain": [
              "            created_at  customer_id  product_id  c_idx\n",
              "0  2018-07-29 15:22:01         5868       54728   3039\n",
              "1  2018-07-30 12:40:22         4774       16193   2476\n",
              "2  2018-09-15 11:51:17         4774       53686   2476\n",
              "3  2018-11-01 11:23:48         4774       20228   2476\n",
              "4  2018-12-18 11:20:30         4774       55220   2476"
            ],
            "text/html": [
              "\n",
              "  <div id=\"df-02396a77-76f3-4786-b60b-2a202669df2d\">\n",
              "    <div class=\"colab-df-container\">\n",
              "      <div>\n",
              "<style scoped>\n",
              "    .dataframe tbody tr th:only-of-type {\n",
              "        vertical-align: middle;\n",
              "    }\n",
              "\n",
              "    .dataframe tbody tr th {\n",
              "        vertical-align: top;\n",
              "    }\n",
              "\n",
              "    .dataframe thead th {\n",
              "        text-align: right;\n",
              "    }\n",
              "</style>\n",
              "<table border=\"1\" class=\"dataframe\">\n",
              "  <thead>\n",
              "    <tr style=\"text-align: right;\">\n",
              "      <th></th>\n",
              "      <th>created_at</th>\n",
              "      <th>customer_id</th>\n",
              "      <th>product_id</th>\n",
              "      <th>c_idx</th>\n",
              "    </tr>\n",
              "  </thead>\n",
              "  <tbody>\n",
              "    <tr>\n",
              "      <th>0</th>\n",
              "      <td>2018-07-29 15:22:01</td>\n",
              "      <td>5868</td>\n",
              "      <td>54728</td>\n",
              "      <td>3039</td>\n",
              "    </tr>\n",
              "    <tr>\n",
              "      <th>1</th>\n",
              "      <td>2018-07-30 12:40:22</td>\n",
              "      <td>4774</td>\n",
              "      <td>16193</td>\n",
              "      <td>2476</td>\n",
              "    </tr>\n",
              "    <tr>\n",
              "      <th>2</th>\n",
              "      <td>2018-09-15 11:51:17</td>\n",
              "      <td>4774</td>\n",
              "      <td>53686</td>\n",
              "      <td>2476</td>\n",
              "    </tr>\n",
              "    <tr>\n",
              "      <th>3</th>\n",
              "      <td>2018-11-01 11:23:48</td>\n",
              "      <td>4774</td>\n",
              "      <td>20228</td>\n",
              "      <td>2476</td>\n",
              "    </tr>\n",
              "    <tr>\n",
              "      <th>4</th>\n",
              "      <td>2018-12-18 11:20:30</td>\n",
              "      <td>4774</td>\n",
              "      <td>55220</td>\n",
              "      <td>2476</td>\n",
              "    </tr>\n",
              "  </tbody>\n",
              "</table>\n",
              "</div>\n",
              "      <button class=\"colab-df-convert\" onclick=\"convertToInteractive('df-02396a77-76f3-4786-b60b-2a202669df2d')\"\n",
              "              title=\"Convert this dataframe to an interactive table.\"\n",
              "              style=\"display:none;\">\n",
              "        \n",
              "  <svg xmlns=\"http://www.w3.org/2000/svg\" height=\"24px\"viewBox=\"0 0 24 24\"\n",
              "       width=\"24px\">\n",
              "    <path d=\"M0 0h24v24H0V0z\" fill=\"none\"/>\n",
              "    <path d=\"M18.56 5.44l.94 2.06.94-2.06 2.06-.94-2.06-.94-.94-2.06-.94 2.06-2.06.94zm-11 1L8.5 8.5l.94-2.06 2.06-.94-2.06-.94L8.5 2.5l-.94 2.06-2.06.94zm10 10l.94 2.06.94-2.06 2.06-.94-2.06-.94-.94-2.06-.94 2.06-2.06.94z\"/><path d=\"M17.41 7.96l-1.37-1.37c-.4-.4-.92-.59-1.43-.59-.52 0-1.04.2-1.43.59L10.3 9.45l-7.72 7.72c-.78.78-.78 2.05 0 2.83L4 21.41c.39.39.9.59 1.41.59.51 0 1.02-.2 1.41-.59l7.78-7.78 2.81-2.81c.8-.78.8-2.07 0-2.86zM5.41 20L4 18.59l7.72-7.72 1.47 1.35L5.41 20z\"/>\n",
              "  </svg>\n",
              "      </button>\n",
              "      \n",
              "  <style>\n",
              "    .colab-df-container {\n",
              "      display:flex;\n",
              "      flex-wrap:wrap;\n",
              "      gap: 12px;\n",
              "    }\n",
              "\n",
              "    .colab-df-convert {\n",
              "      background-color: #E8F0FE;\n",
              "      border: none;\n",
              "      border-radius: 50%;\n",
              "      cursor: pointer;\n",
              "      display: none;\n",
              "      fill: #1967D2;\n",
              "      height: 32px;\n",
              "      padding: 0 0 0 0;\n",
              "      width: 32px;\n",
              "    }\n",
              "\n",
              "    .colab-df-convert:hover {\n",
              "      background-color: #E2EBFA;\n",
              "      box-shadow: 0px 1px 2px rgba(60, 64, 67, 0.3), 0px 1px 3px 1px rgba(60, 64, 67, 0.15);\n",
              "      fill: #174EA6;\n",
              "    }\n",
              "\n",
              "    [theme=dark] .colab-df-convert {\n",
              "      background-color: #3B4455;\n",
              "      fill: #D2E3FC;\n",
              "    }\n",
              "\n",
              "    [theme=dark] .colab-df-convert:hover {\n",
              "      background-color: #434B5C;\n",
              "      box-shadow: 0px 1px 3px 1px rgba(0, 0, 0, 0.15);\n",
              "      filter: drop-shadow(0px 1px 2px rgba(0, 0, 0, 0.3));\n",
              "      fill: #FFFFFF;\n",
              "    }\n",
              "  </style>\n",
              "\n",
              "      <script>\n",
              "        const buttonEl =\n",
              "          document.querySelector('#df-02396a77-76f3-4786-b60b-2a202669df2d button.colab-df-convert');\n",
              "        buttonEl.style.display =\n",
              "          google.colab.kernel.accessAllowed ? 'block' : 'none';\n",
              "\n",
              "        async function convertToInteractive(key) {\n",
              "          const element = document.querySelector('#df-02396a77-76f3-4786-b60b-2a202669df2d');\n",
              "          const dataTable =\n",
              "            await google.colab.kernel.invokeFunction('convertToInteractive',\n",
              "                                                     [key], {});\n",
              "          if (!dataTable) return;\n",
              "\n",
              "          const docLinkHtml = 'Like what you see? Visit the ' +\n",
              "            '<a target=\"_blank\" href=https://colab.research.google.com/notebooks/data_table.ipynb>data table notebook</a>'\n",
              "            + ' to learn more about interactive tables.';\n",
              "          element.innerHTML = '';\n",
              "          dataTable['output_type'] = 'display_data';\n",
              "          await google.colab.output.renderOutput(dataTable, element);\n",
              "          const docLink = document.createElement('div');\n",
              "          docLink.innerHTML = docLinkHtml;\n",
              "          element.appendChild(docLink);\n",
              "        }\n",
              "      </script>\n",
              "    </div>\n",
              "  </div>\n",
              "  "
            ]
          },
          "metadata": {},
          "execution_count": 73
        }
      ]
    },
    {
      "cell_type": "code",
      "source": [
        "trans_cus_pro = pd.merge(tran_cus, product[['p_idx','product_id']],on='product_id')"
      ],
      "metadata": {
        "id": "MWA_DqlTsAjA"
      },
      "execution_count": 83,
      "outputs": []
    },
    {
      "cell_type": "code",
      "source": [
        "trans_cus_pro.info()"
      ],
      "metadata": {
        "colab": {
          "base_uri": "https://localhost:8080/"
        },
        "id": "9sK3vO1kx4Pq",
        "outputId": "bc264acd-ff45-495d-f0c6-8a73338c3157"
      },
      "execution_count": 84,
      "outputs": [
        {
          "output_type": "stream",
          "name": "stdout",
          "text": [
            "<class 'pandas.core.frame.DataFrame'>\n",
            "Int64Index: 1253793 entries, 0 to 1253792\n",
            "Data columns (total 5 columns):\n",
            " #   Column       Non-Null Count    Dtype \n",
            "---  ------       --------------    ----- \n",
            " 0   created_at   1253793 non-null  object\n",
            " 1   customer_id  1253793 non-null  int32 \n",
            " 2   product_id   1253793 non-null  uint16\n",
            " 3   c_idx        1253793 non-null  int64 \n",
            " 4   p_idx        1253793 non-null  int32 \n",
            "dtypes: int32(2), int64(1), object(1), uint16(1)\n",
            "memory usage: 40.7+ MB\n"
          ]
        }
      ]
    },
    {
      "cell_type": "code",
      "source": [
        "# 이걸 진행하니 데이터가 더 증가함 버려버려\n",
        "# trans_cus_pro['created_at']=trans_cus_pro['created_at'].astype('category')\n",
        "# trans_cus_pro['c_idx']=trans_cus_pro['c_idx'].astype('int32')"
      ],
      "metadata": {
        "id": "mj-MN-1CyAy7"
      },
      "execution_count": 81,
      "outputs": []
    },
    {
      "cell_type": "code",
      "source": [
        "trans_cus_pro['c_idx'].nunique()"
      ],
      "metadata": {
        "colab": {
          "base_uri": "https://localhost:8080/"
        },
        "id": "Tvbf2I5Cxugu",
        "outputId": "9d8564f5-1d35-454b-b7ce-02c4b28e09ee"
      },
      "execution_count": 85,
      "outputs": [
        {
          "output_type": "execute_result",
          "data": {
            "text/plain": [
              "50698"
            ]
          },
          "metadata": {},
          "execution_count": 85
        }
      ]
    },
    {
      "cell_type": "code",
      "source": [
        "trans_cus_pro.to_parquet('model_data.parquet')"
      ],
      "metadata": {
        "id": "-l3Rv14vs9zn"
      },
      "execution_count": 86,
      "outputs": []
    }
  ]
}